{
 "cells": [
  {
   "cell_type": "markdown",
   "id": "d2785751",
   "metadata": {},
   "source": [
    "# Prevendo qualidade de vinho com regressão\n",
    "\n",
    "## Enunciado\n",
    "\n",
    "O vinho verde é um produto único da região de Minho, do Noroeste de Portugal. Médio em álcool, este vinho é particularmente apreciado devido ao seu frescor, especialmente no verão. Com base nisso, foram coletadas as seguintes informações sobre o vinho:\n",
    "\n",
    "1. Acidez fixa (fixed acidity).\n",
    "2. Acidez critica (critical acidity).\n",
    "3. Acidez volátil (volatile acidity).\n",
    "4. Açúcar residual (residual sugar).\n",
    "5. Concentração de cloretos (chlorides).\n",
    "6. Concentração de dióxido sulfúrico livre (free sulphur dioxide).\n",
    "7. Concentração total dióxido sulfúrico (free sulphur dioxide).\n",
    "8. Densidade (density).\n",
    "9. pH (pH).\n",
    "10. Concentração de sulfatos (sulphates).\n",
    "11. Concentração alcoólica (alcohol).\n",
    "\n",
    "Output (baseado na avaliação média de especialistas):\n",
    "\n",
    "12. Qualidade (quality) (score 0-10).\n",
    "\n",
    "Há dois datasets, relacionados às variantes vermelha e branca do \"vinho verde\", de Portugal. Escolha um dos datasets contendo informações de uma das variantes (vermelha ou branca) e crie um modelo de regressão para prever a qualidade do vinho. A entrega é individual e deverá ser colocada no github pessoal\n",
    "\n",
    "## TODOs\n",
    "\n",
    "- EDA\n",
    "- Regressão\n",
    "  - Criar um modelo de regressão para prever a qualidade do vinho.\n",
    "  - Feature engineering.\n"
   ]
  }
 ],
 "metadata": {
  "kernelspec": {
   "display_name": "Python 3",
   "language": "python",
   "name": "python3"
  },
  "language_info": {
   "codemirror_mode": {
    "name": "ipython",
    "version": 3
   },
   "file_extension": ".py",
   "mimetype": "text/x-python",
   "name": "python",
   "nbconvert_exporter": "python",
   "pygments_lexer": "ipython3",
   "version": "3.11.11"
  }
 },
 "nbformat": 4,
 "nbformat_minor": 5
}
