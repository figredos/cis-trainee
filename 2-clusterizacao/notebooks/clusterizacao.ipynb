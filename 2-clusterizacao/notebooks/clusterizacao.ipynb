{
 "cells": [
  {
   "cell_type": "markdown",
   "id": "217123d8",
   "metadata": {},
   "source": [
    "# Student habits vs Academic performance\n",
    "\n",
    "## Enunciado\n",
    "\n",
    "Utilizando como base o dataset [Student habits v Academic performance](../datasets/student_habits_performance.csv):\n",
    "\n",
    "1. Apenas com a observação dos dados por meio de tabelas e dataframe, apresente suas hipóteses;\n",
    "\n",
    "2. Realize uma EDA da forma que julgar mais adequada;\n",
    "\n",
    "3. Com base na EDA realizada, revise as suas hipóteses a respeito dos dados;\n",
    "\n",
    "4. Construa um algoritmo de K-Means from scratch utilizando a linguagem Python\n",
    "\n",
    "5. Apresente a justificativa de forma discursiva e por meio de cálculos, o valor de K utilizado;\n",
    "\n",
    "6. Revise as hipóteses levantadas nos exercícios 1 e 2 e com base no algoritmo desenvolvido, apresente análise crítica a respeito das informações extraídas dos dados caso o algoritmo refute ou confirme as suas hipóteses;\n",
    "\n",
    "Tarefas Extra:\n",
    "\n",
    "7. Exercite sua habilidade de pesquisa e curadoria de informações e a partir de fontes próprias, escreva, com suas palavras, de maneira teórica e com o aprofundamento que achar adequado os algoritmos DBSCAM e Hierarchical Clustering;\n",
    "\n",
    "8. Exercite sua habilidade de pesquisa e curadoria de informações e a partir de fontes próprias, escreva, com suas palavras, de maneira teórica e com o aprofundamento que achar adequado qual o algoritmo SotA para clustering. Apresente as referências utilizadas;\n",
    "\n",
    "https://chatgpt.com/share/6821eda7-00f4-8006-9abd-43bdd7df4be1\n"
   ]
  },
  {
   "cell_type": "markdown",
   "id": "f3ed20f3",
   "metadata": {},
   "source": [
    "## Setup\n"
   ]
  },
  {
   "cell_type": "markdown",
   "id": "9294467d",
   "metadata": {},
   "source": [
    "### Importando pacotes e dados\n"
   ]
  },
  {
   "cell_type": "markdown",
   "id": "f94031e3",
   "metadata": {},
   "source": [
    "### Declarações de funções\n"
   ]
  },
  {
   "cell_type": "markdown",
   "id": "2d533632",
   "metadata": {},
   "source": [
    "## Hipóteses inicias a partir de inspeção de dados\n"
   ]
  },
  {
   "cell_type": "markdown",
   "id": "ee61da56",
   "metadata": {},
   "source": [
    "## EDA\n"
   ]
  },
  {
   "cell_type": "markdown",
   "id": "89d2647e",
   "metadata": {},
   "source": [
    "### Revisão das Hipóteses\n"
   ]
  },
  {
   "cell_type": "markdown",
   "id": "da7bd77d",
   "metadata": {},
   "source": [
    "## Implementação de K-Means from scratch\n",
    "\n",
    "https://www.youtube.com/watch?v=lX-3nGHDhQg\n",
    "\n",
    "https://www.youtube.com/watch?v=5w5iUbTlpMQ\n",
    "\n",
    "https://medium.com/@avijit.bhattacharjee1996/implementing-k-means-clustering-from-scratch-in-python-a277c23563ac\n",
    "\n",
    "https://github.com/aihubprojects/Machine-Learning-From-Scratch/blob/master/K-Means%20from%20Scratch.ipynb?utm_source=chatgpt.com\n"
   ]
  },
  {
   "cell_type": "markdown",
   "id": "df007b63",
   "metadata": {},
   "source": [
    "## Justificativa do valor de $K$\n",
    "\n",
    "Métodos para determinar K:\n",
    "\n",
    "- Elbow Method (WCSS vs.K): procure o “cotovelo” na curva de soma de quadrados dentro do cluster [link](https://www.geeksforgeeks.org/elbow-method-for-optimal-value-of-k-in-kmeans/?utm_source=chatgpt.com)\n",
    "\n",
    "- Silhouette Score: avalia coesão e separação dos clusters; valores mais altos indicam clusters bem definidos [link](https://www.analyticsvidhya.com/blog/2021/05/k-mean-getting-the-optimal-number-of-clusters/?utm_source=chatgpt.com)\n",
    "\n",
    "- Gap Statistic: compara inércia do seu dataset com dataset de referência aleatório.\n"
   ]
  },
  {
   "cell_type": "markdown",
   "id": "bb4400be",
   "metadata": {},
   "source": [
    "## Análise crítica final\n"
   ]
  },
  {
   "cell_type": "markdown",
   "id": "4cd36cd5",
   "metadata": {},
   "source": [
    "## Tarefas Extra\n"
   ]
  },
  {
   "cell_type": "markdown",
   "id": "52abb592",
   "metadata": {},
   "source": [
    "### DBSCAN\n",
    "\n",
    "https://www.geeksforgeeks.org/dbscan-clustering-in-ml-density-based-clustering/?utm_source=chatgpt.com\n",
    "\n",
    "https://en.wikipedia.org/wiki/DBSCAN?utm_source=chatgpt.com\n"
   ]
  },
  {
   "cell_type": "markdown",
   "id": "6c79ffee",
   "metadata": {},
   "source": [
    "### Hierarchical Clustering\n",
    "\n",
    "https://www.ibm.com/think/topics/hierarchical-clustering?utm_source=chatgpt.com\n",
    "\n",
    "https://en.wikipedia.org/wiki/Hierarchical_clustering?utm_source=chatgpt.com\n"
   ]
  },
  {
   "cell_type": "markdown",
   "id": "8a5ae0aa",
   "metadata": {},
   "source": [
    "### SotA para Clustering\n",
    "\n",
    "https://peerj.com/articles/cs-2286.pdf?utm_source=chatgpt.com\n",
    "\n",
    "https://www.researchgate.net/publication/358814868_A_comprehensive_survey_of_clustering_algorithms_State-of-the-art_machine_learning_applications_taxonomy_challenges_and_future_research_prospects?utm_source=chatgpt.com\n",
    "\n",
    "https://medium.com/%40sina.nazeri/comparing-the-state-of-the-art-clustering-algorithms-1e65a08157a1?utm_source=chatgpt.com\n"
   ]
  }
 ],
 "metadata": {
  "language_info": {
   "name": "python"
  }
 },
 "nbformat": 4,
 "nbformat_minor": 5
}
